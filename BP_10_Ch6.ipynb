{
  "nbformat": 4,
  "nbformat_minor": 0,
  "metadata": {
    "colab": {
      "provenance": [],
      "collapsed_sections": [],
      "authorship_tag": "ABX9TyOJx95U1HqhCAvCy37RsQi5",
      "include_colab_link": true
    },
    "kernelspec": {
      "name": "python3",
      "display_name": "Python 3"
    },
    "language_info": {
      "name": "python"
    }
  },
  "cells": [
    {
      "cell_type": "markdown",
      "metadata": {
        "id": "view-in-github",
        "colab_type": "text"
      },
      "source": [
        "<a href=\"https://colab.research.google.com/github/L-minji/BP_10_Ch6/blob/main/BP_10_Ch6.ipynb\" target=\"_parent\"><img src=\"https://colab.research.google.com/assets/colab-badge.svg\" alt=\"Open In Colab\"/></a>"
      ]
    },
    {
      "cell_type": "code",
      "execution_count": 7,
      "metadata": {
        "colab": {
          "base_uri": "https://localhost:8080/"
        },
        "id": "33MClbM1Cc2g",
        "outputId": "b57bc92a-071c-4be2-83a5-764a112860bb"
      },
      "outputs": [
        {
          "output_type": "stream",
          "name": "stdout",
          "text": [
            "2468101214161820222426283032343638404244464850525456586062646668707274767880828486889092949698100"
          ]
        }
      ],
      "source": [
        "#6장 연습문제\n",
        "#1번 문제\n",
        "for i in range(2, 101):\n",
        "  if i%2==0:             #x%2한 결과가 0이면 x는 짝수이다.\n",
        "   print(i,end=\"\")"
      ]
    },
    {
      "cell_type": "code",
      "source": [
        "#2번 문제\n",
        "year=0\n",
        "saving=1000    #변수 savig에 1000을 선언한다\n",
        "\n",
        "while saving<=2000:\n",
        "  year=year+1\n",
        "  interest=saving*0.07\n",
        "  saving=saving+interest\n",
        "print(year, \"년이 걸립니다.\")"
      ],
      "metadata": {
        "colab": {
          "base_uri": "https://localhost:8080/"
        },
        "id": "WONo-ySCENzI",
        "outputId": "969c0ef9-26dc-4396-eff0-6d4fd5bc9758"
      },
      "execution_count": 11,
      "outputs": [
        {
          "output_type": "stream",
          "name": "stdout",
          "text": [
            "11 년이 걸립니다.\n"
          ]
        }
      ]
    },
    {
      "cell_type": "code",
      "source": [
        "#3번 문제\n"
      ],
      "metadata": {
        "id": "rNbfgFqpFcGt"
      },
      "execution_count": null,
      "outputs": []
    }
  ]
}