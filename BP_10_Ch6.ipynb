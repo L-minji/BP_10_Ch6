{
  "nbformat": 4,
  "nbformat_minor": 0,
  "metadata": {
    "colab": {
      "provenance": [],
      "collapsed_sections": [],
      "authorship_tag": "ABX9TyOmMu95KL+peHbLMv+GdKVE",
      "include_colab_link": true
    },
    "kernelspec": {
      "name": "python3",
      "display_name": "Python 3"
    },
    "language_info": {
      "name": "python"
    }
  },
  "cells": [
    {
      "cell_type": "markdown",
      "metadata": {
        "id": "view-in-github",
        "colab_type": "text"
      },
      "source": [
        "<a href=\"https://colab.research.google.com/github/L-minji/BP_10_Ch6/blob/main/BP_10_Ch6.ipynb\" target=\"_parent\"><img src=\"https://colab.research.google.com/assets/colab-badge.svg\" alt=\"Open In Colab\"/></a>"
      ]
    },
    {
      "cell_type": "code",
      "execution_count": null,
      "metadata": {
        "colab": {
          "base_uri": "https://localhost:8080/"
        },
        "id": "33MClbM1Cc2g",
        "outputId": "b57bc92a-071c-4be2-83a5-764a112860bb"
      },
      "outputs": [
        {
          "output_type": "stream",
          "name": "stdout",
          "text": [
            "2468101214161820222426283032343638404244464850525456586062646668707274767880828486889092949698100"
          ]
        }
      ],
      "source": [
        "#6장 연습문제\n",
        "#1번 문제\n",
        "for i in range(2, 101):\n",
        "  if i%2==0:             #x%2한 결과가 0이면 x는 짝수이다.\n",
        "   print(i,end=\"\")"
      ]
    },
    {
      "cell_type": "code",
      "source": [
        "#2번 문제\n",
        "year=0\n",
        "saving=1000    #변수 savig에 1000을 선언한다\n",
        "\n",
        "while saving<=2000:\n",
        "  year=year+1\n",
        "  interest=saving*0.07\n",
        "  saving=saving+interest\n",
        "print(year, \"년이 걸립니다.\")"
      ],
      "metadata": {
        "colab": {
          "base_uri": "https://localhost:8080/"
        },
        "id": "WONo-ySCENzI",
        "outputId": "969c0ef9-26dc-4396-eff0-6d4fd5bc9758"
      },
      "execution_count": null,
      "outputs": [
        {
          "output_type": "stream",
          "name": "stdout",
          "text": [
            "11 년이 걸립니다.\n"
          ]
        }
      ]
    },
    {
      "cell_type": "code",
      "source": [
        "#3번 문제\n",
        "\n"
      ],
      "metadata": {
        "id": "rNbfgFqpFcGt"
      },
      "execution_count": null,
      "outputs": []
    },
    {
      "cell_type": "code",
      "source": [
        "#4번 문제\n",
        "number=0                  #number를 변수로 선언한다.\n",
        "while number!=3*9:        #어떤 조건이 만족될 때까지 반복하는 것은 While의 루프다.\n",
        "  number=int(input(\"3*9는\"))\n",
        "print(\"맞았습니다.\")  "
      ],
      "metadata": {
        "colab": {
          "base_uri": "https://localhost:8080/"
        },
        "id": "wvMpDNIvE05b",
        "outputId": "68a4a7b0-0581-4746-829b-bdcacaf299c4"
      },
      "execution_count": 6,
      "outputs": [
        {
          "output_type": "stream",
          "name": "stdout",
          "text": [
            "3*9는27\n",
            "맞았습니다.\n"
          ]
        }
      ]
    },
    {
      "cell_type": "code",
      "source": [
        "#5번 문제\n",
        "sum=0\n",
        "while True:    #무한 루프를 반복하고 입력 값이 0인 경우 반복을 멈춘다\n",
        "  x=int(input(\"정수를 입력하시오:\"))\n",
        "  if x ==0:\n",
        "    break;\n",
        "  sum=sum+x\n",
        "print(\"합은\",sum,\"입니다.\")    \n"
      ],
      "metadata": {
        "colab": {
          "base_uri": "https://localhost:8080/"
        },
        "id": "kjh2n0FsFUQL",
        "outputId": "2f08eb18-3598-450a-8231-937b1ff97b5c"
      },
      "execution_count": 8,
      "outputs": [
        {
          "output_type": "stream",
          "name": "stdout",
          "text": [
            "정수를 입력하시오:58\n",
            "정수를 입력하시오:5\n",
            "정수를 입력하시오:0\n",
            "합은 63 입니다.\n"
          ]
        }
      ]
    },
    {
      "cell_type": "code",
      "source": [
        "#6번 문제"
      ],
      "metadata": {
        "id": "6lJDhHQUGx80"
      },
      "execution_count": null,
      "outputs": []
    }
  ]
}