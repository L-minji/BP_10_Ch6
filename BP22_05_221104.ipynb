{
  "nbformat": 4,
  "nbformat_minor": 0,
  "metadata": {
    "colab": {
      "provenance": [],
      "collapsed_sections": [],
      "authorship_tag": "ABX9TyMHg0HdxpQcaUkiJoRi70Qk",
      "include_colab_link": true
    },
    "kernelspec": {
      "name": "python3",
      "display_name": "Python 3"
    },
    "language_info": {
      "name": "python"
    }
  },
  "cells": [
    {
      "cell_type": "markdown",
      "metadata": {
        "id": "view-in-github",
        "colab_type": "text"
      },
      "source": [
        "<a href=\"https://colab.research.google.com/github/L-minji/BP_10_Ch6/blob/main/BP22_05_221104.ipynb\" target=\"_parent\"><img src=\"https://colab.research.google.com/assets/colab-badge.svg\" alt=\"Open In Colab\"/></a>"
      ]
    },
    {
      "cell_type": "code",
      "execution_count": null,
      "metadata": {
        "colab": {
          "base_uri": "https://localhost:8080/"
        },
        "id": "-337SdIa4Xuw",
        "outputId": "e0be30ce-44a2-49fc-cf4a-5136c8b78cc9"
      },
      "outputs": [
        {
          "output_type": "stream",
          "name": "stdout",
          "text": [
            "현재 나이를 입력하시오:20\n",
            "20살 이상\n"
          ]
        }
      ],
      "source": [
        "#5장 연습문제\n",
        "#1번\n",
        "age=int(input(\"현재 나이를 입력하시오:\"))\n",
        "if age<20:\n",
        "  print(\"20살 미만\")\n",
        "else:\n",
        "  print(\"20살 이상\")"
      ]
    },
    {
      "cell_type": "code",
      "source": [
        "#2번 문제\n",
        "age=int(input(\"현재 나이를 입력하시오:\"))\n",
        "if age>=30 and age<=50:\n",
        "  print(\"30살 이상이고 50살 이하\")"
      ],
      "metadata": {
        "colab": {
          "base_uri": "https://localhost:8080/"
        },
        "id": "BGyorS9TAjjs",
        "outputId": "0aece7fc-8987-4048-854a-9f609a5fc31c"
      },
      "execution_count": null,
      "outputs": [
        {
          "name": "stdout",
          "output_type": "stream",
          "text": [
            "현재 나이를 입력하시오:20\n"
          ]
        }
      ]
    },
    {
      "cell_type": "code",
      "source": [
        "#3번 문제\n",
        "temp=int(input(\"현재 온도를 입력하시오.:\"))\n",
        "if temp >= 25:\n",
        "  print(\"반바지를 입으세요\")\n",
        "else:\n",
        "   print(\"긴바지를 입으세요\") "
      ],
      "metadata": {
        "colab": {
          "base_uri": "https://localhost:8080/"
        },
        "id": "4W_Y4m7wCwYL",
        "outputId": "6c512b78-67ef-442e-db7f-8b8fa92eb206"
      },
      "execution_count": null,
      "outputs": [
        {
          "output_type": "stream",
          "name": "stdout",
          "text": [
            "현재 온도를 입력하시오.:10\n",
            "긴바지를 입으세요\n"
          ]
        }
      ]
    },
    {
      "cell_type": "code",
      "source": [
        "#4번 문제\n",
        "score=int(input(\"성적을 입력하시오.:\"))\n",
        "\n",
        "if score >= 90:\n",
        "  print(\"A학점입니다.\")\n",
        "elif score >= 80:\n",
        "  print(\"B학점입니다.\")\n",
        "elif score >= 70:\n",
        "  print(\"C학점입니다.\")\n",
        "elif score >= 60:\n",
        "  print(\"D학점입니다.\")\n",
        "else:\n",
        "  print(\"F학점입니다.\")      "
      ],
      "metadata": {
        "colab": {
          "base_uri": "https://localhost:8080/"
        },
        "id": "0e4D4FRCDq1D",
        "outputId": "77bfc268-da85-4cc7-f236-bd5c7931ae0c"
      },
      "execution_count": null,
      "outputs": [
        {
          "output_type": "stream",
          "name": "stdout",
          "text": [
            "성적을 입력하시오.:99\n",
            "A학점입니다.\n"
          ]
        }
      ]
    },
    {
      "cell_type": "code",
      "source": [
        "#5번 문제\n",
        "import random\n",
        "x=random.randint(1,100)\n",
        "y=random.randint(1,100)\n",
        "\n",
        "ans=int(input(str(x)+\"-\"+str(y)+\"=\"))\n",
        "\n",
        "if ans ++ x-y:\n",
        "  print(\"맞았습니다.\")\n",
        "else:\n",
        "  print(\"틀렸습니다.\")    "
      ],
      "metadata": {
        "colab": {
          "base_uri": "https://localhost:8080/"
        },
        "id": "NEc347_ZEMhb",
        "outputId": "1702595f-297b-486f-fad7-2bd176671e66"
      },
      "execution_count": null,
      "outputs": [
        {
          "output_type": "stream",
          "name": "stdout",
          "text": [
            "6-79=-71\n",
            "맞았습니다.\n"
          ]
        }
      ]
    },
    {
      "cell_type": "code",
      "source": [
        "#6번 문제\n",
        "n=int(input(\"정수를 입력하시오.:\"))\n",
        "\n",
        "if n%2==0 and n%3==0:\n",
        "  print(\"2와 3으로 나누어 떨어집니다.\")\n",
        "else:\n",
        "  print(\"2와 3으로 나누어 떨어지지 않습니다.\")  "
      ],
      "metadata": {
        "colab": {
          "base_uri": "https://localhost:8080/"
        },
        "id": "RsaQYA95Fbzb",
        "outputId": "64e2845a-b869-495d-f457-25dd45d2485e"
      },
      "execution_count": null,
      "outputs": [
        {
          "output_type": "stream",
          "name": "stdout",
          "text": [
            "정수를 입력하시오.:6\n",
            "2와 3으로 나누어 떨어집니다.\n"
          ]
        }
      ]
    },
    {
      "cell_type": "code",
      "source": [
        "#7번 문제\n",
        "import random\n",
        "\n",
        "solution = random.randint(0,99)\n",
        "\n",
        "user=int(input(\"복권번호를 입력하시오(0에서 99사이):\"))\n",
        "\n",
        "digit1 = solution//10\n",
        "digit2 = solution%10\n",
        "\n",
        "u_digit1=user//10\n",
        "u_digit2=user%10\n",
        "\n",
        "print(\"당첨번호는\", solution, \"입니다.\")\n",
        "\n",
        "if(digit1==u_digit1 and digit2 ==u_digit2):\n",
        "  print(\"상금은 100만원입니다.\")\n",
        "elif(digit1==u_digit1\n",
        "     or digit1==u_digit2\n",
        "     or digit2==u_digit1\n",
        "     or digit2==u_digit2):\n",
        "  print(\"상금은 50만원입니다.\")\n",
        "else:\n",
        "  print(\"상금은 없습니다.\")    "
      ],
      "metadata": {
        "colab": {
          "base_uri": "https://localhost:8080/"
        },
        "id": "4NUbMg59F2IT",
        "outputId": "b1ac4d59-bcf0-486b-c5b5-e58796659d25"
      },
      "execution_count": null,
      "outputs": [
        {
          "output_type": "stream",
          "name": "stdout",
          "text": [
            "복권번호를 입력하시오(0에서 99사이):98\n",
            "당첨번호는 77 입니다.\n",
            "상금은 없습니다.\n"
          ]
        }
      ]
    },
    {
      "cell_type": "code",
      "source": [
        "#8번 문제\n",
        "import turtle\n",
        "t=turtle.Turtle()\n",
        "t.shape(\"turtle\")\n",
        "\n",
        "x1=int(input(\"큰 원의 중심좌표 x1:\"))\n",
        "y1=int(input(\"큰 원의 중심좌표 y1:\"))\n",
        "r1=int(input(\"큰 원의 반지름:\"))\n",
        "x2=int(input(\"작은 원의 중심좌표 x2:\"))\n",
        "y2=int(input(\"작은 원의 중심좌표 y2:\"))\n",
        "r2=int(input(\"작은 원의 반지름:\"))\n",
        "\n",
        "t.penup()\n",
        "t.goto(x1, y1)\n",
        "t.pendown()\n",
        "t.circle(r1)\n",
        "\n",
        "t.penup()\n",
        "t.goto(x2, y2)\n",
        "t.pendown()\n",
        "t.circle(r2)\n",
        "\n",
        "dist=((x1-x2)*(x1-x2)+(y1-y2)*(y1-y2))**0.5\n",
        "if dist<=r1-r2:\n",
        "  turtle.write(\"두번째 원이 첫번째 원의 내부에 있습니다.\")\n",
        "elif dist<=r1+r2:\n",
        "  turtle.write(\"두번째 원이 첫번째 원과 겹칩니다.\")\n",
        "else:\n",
        "  turtle.write(\"두번째 원이 첫번째 원과 겹치지 않습니다.\")\n",
        "t._screen.exitionclick() #화면을 마우스로 클릭해야 종료되게 하는 부분\n"
      ],
      "metadata": {
        "id": "ZNhjrSKKPRAk"
      },
      "execution_count": null,
      "outputs": []
    }
  ]
}