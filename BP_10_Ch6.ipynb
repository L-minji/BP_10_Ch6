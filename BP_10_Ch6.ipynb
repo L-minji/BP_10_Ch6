{
  "nbformat": 4,
  "nbformat_minor": 0,
  "metadata": {
    "colab": {
      "provenance": [],
      "collapsed_sections": [],
      "authorship_tag": "ABX9TyMBQw/ETYjmuEmCXgGjkT49",
      "include_colab_link": true
    },
    "kernelspec": {
      "name": "python3",
      "display_name": "Python 3"
    },
    "language_info": {
      "name": "python"
    }
  },
  "cells": [
    {
      "cell_type": "markdown",
      "metadata": {
        "id": "view-in-github",
        "colab_type": "text"
      },
      "source": [
        "<a href=\"https://colab.research.google.com/github/L-minji/BP_10_Ch6/blob/main/BP_10_Ch6.ipynb\" target=\"_parent\"><img src=\"https://colab.research.google.com/assets/colab-badge.svg\" alt=\"Open In Colab\"/></a>"
      ]
    },
    {
      "cell_type": "code",
      "execution_count": null,
      "metadata": {
        "colab": {
          "base_uri": "https://localhost:8080/"
        },
        "id": "33MClbM1Cc2g",
        "outputId": "b57bc92a-071c-4be2-83a5-764a112860bb"
      },
      "outputs": [
        {
          "output_type": "stream",
          "name": "stdout",
          "text": [
            "2468101214161820222426283032343638404244464850525456586062646668707274767880828486889092949698100"
          ]
        }
      ],
      "source": [
        "#6장 연습문제\n",
        "#1번 문제\n",
        "for i in range(2, 101):\n",
        "  if i%2==0:             #x%2한 결과가 0이면 x는 짝수이다.\n",
        "   print(i,end=\"\")"
      ]
    },
    {
      "cell_type": "code",
      "source": [
        "#2번 문제\n",
        "year=0\n",
        "saving=1000    #변수 savig에 1000을 선언한다\n",
        "\n",
        "while saving<=2000:\n",
        "  year=year+1\n",
        "  interest=saving*0.07\n",
        "  saving=saving+interest\n",
        "print(year, \"년이 걸립니다.\")"
      ],
      "metadata": {
        "colab": {
          "base_uri": "https://localhost:8080/"
        },
        "id": "WONo-ySCENzI",
        "outputId": "969c0ef9-26dc-4396-eff0-6d4fd5bc9758"
      },
      "execution_count": null,
      "outputs": [
        {
          "output_type": "stream",
          "name": "stdout",
          "text": [
            "11 년이 걸립니다.\n"
          ]
        }
      ]
    },
    {
      "cell_type": "code",
      "source": [
        "#3번 문제\n",
        "n=1234\n",
        "sum=0\n",
        "while n>0:\n",
        "  digit=n%10     #%는 나머지를 계산하는 연산자이다.\n",
        "  sum=sum+digit\n",
        "  n=n//10        #//은 나눗셈에서 몫을 계산한다.\n",
        "print(sum)  \n"
      ],
      "metadata": {
        "id": "rNbfgFqpFcGt",
        "colab": {
          "base_uri": "https://localhost:8080/"
        },
        "outputId": "0f0b9978-cf63-4138-e2fc-b4b34e8ae9f3"
      },
      "execution_count": null,
      "outputs": [
        {
          "output_type": "stream",
          "name": "stdout",
          "text": [
            "10\n"
          ]
        }
      ]
    },
    {
      "cell_type": "code",
      "source": [
        "#4번 문제\n",
        "number=0                  #number를 변수로 선언한다.\n",
        "while number!=3*9:        #어떤 조건이 만족될 때까지 반복하는 것은 While의 루프다.\n",
        "  number=int(input(\"3*9는\"))\n",
        "print(\"맞았습니다.\")  "
      ],
      "metadata": {
        "colab": {
          "base_uri": "https://localhost:8080/"
        },
        "id": "wvMpDNIvE05b",
        "outputId": "68a4a7b0-0581-4746-829b-bdcacaf299c4"
      },
      "execution_count": null,
      "outputs": [
        {
          "output_type": "stream",
          "name": "stdout",
          "text": [
            "3*9는27\n",
            "맞았습니다.\n"
          ]
        }
      ]
    },
    {
      "cell_type": "code",
      "source": [
        "#5번 문제\n",
        "sum=0\n",
        "while True:    #무한 루프를 반복하고 입력 값이 0인 경우 반복을 멈춘다\n",
        "  x=int(input(\"정수를 입력하시오:\"))\n",
        "  if x ==0:\n",
        "    break;\n",
        "  sum=sum+x\n",
        "print(\"합은\",sum,\"입니다.\")    \n"
      ],
      "metadata": {
        "colab": {
          "base_uri": "https://localhost:8080/"
        },
        "id": "kjh2n0FsFUQL",
        "outputId": "2f08eb18-3598-450a-8231-937b1ff97b5c"
      },
      "execution_count": null,
      "outputs": [
        {
          "output_type": "stream",
          "name": "stdout",
          "text": [
            "정수를 입력하시오:58\n",
            "정수를 입력하시오:5\n",
            "정수를 입력하시오:0\n",
            "합은 63 입니다.\n"
          ]
        }
      ]
    },
    {
      "cell_type": "code",
      "source": [
        "#6번 문제\n",
        "from random import randint   #프로그램 첫 부분에 import random 문장도 추가해야 한다\n",
        "\n",
        "for i in range(3):\n",
        "  d1=randint(1,6)   #1부터 6사이의 난수를 발생하려면 이 문장을 사용해야 한다.\n",
        "  d2=randint(1,6)\n",
        "print(\"첫번째 주사위=\",d1,\"두번째 주사위=\",d2)  "
      ],
      "metadata": {
        "id": "6lJDhHQUGx80",
        "colab": {
          "base_uri": "https://localhost:8080/"
        },
        "outputId": "e97e33cc-1c24-447c-f149-c4025c982dce"
      },
      "execution_count": null,
      "outputs": [
        {
          "output_type": "stream",
          "name": "stdout",
          "text": [
            "첫번째 주사위= 4 두번째 주사위= 2\n"
          ]
        }
      ]
    },
    {
      "cell_type": "code",
      "source": [
        "#7번 문제 별\n",
        "import turtle\n",
        "\n",
        "t=turtle.Turtle()\n",
        "t.shape(\"turtle\")\n",
        "t.left(90)\n",
        "\n",
        "for i in range(1,7):\n",
        "  t.forward(100)\n",
        "  t.forward(-30)\n",
        "  t.left(60)\n",
        "  t.forward(30)\n",
        "  t.forward(-30)\n",
        "\n",
        "  t.right(120)\n",
        "  t.forward(30)\n",
        "  t.forward(-30)\n",
        "\n",
        "  t.left(60)\n",
        "  t.forward(-70)\n",
        "  t.left(60)\n",
        "\n"
      ],
      "metadata": {
        "id": "y1wJs9AzdBej"
      },
      "execution_count": null,
      "outputs": []
    },
    {
      "cell_type": "code",
      "source": [
        "#8번 문제 눈송이\n",
        "import turtle\n",
        "\n",
        "myPen=turtle.Turtle()\n",
        "myPen.speed(0)\n",
        "myPen.color(\"#FF0000\")\n",
        "\n",
        "for j in range(1,10):\n",
        "  for i in range(1,6):\n",
        "    myPen.left(144)\n",
        "    myPen.forward(200)\n",
        "  myPen.left(10)\n",
        "t._screen.exitonclick()"
      ],
      "metadata": {
        "id": "tCZnMzMbhs0D"
      },
      "execution_count": null,
      "outputs": []
    },
    {
      "cell_type": "code",
      "source": [
        "#9번 문제 랜덤한 원\n",
        "import turtle\n",
        "import random\n",
        "\n",
        "t=turtle.Turtle()\n",
        "t.shape(\"turtle\")\n",
        "\n",
        "for j in range(1,10):\n",
        "  t.up()\n",
        "  x=random.randint(-200,200)\n",
        "  y=random.randint(-200,200)\n",
        "  r=random.randint(10,200)\n",
        "  t.goto(x,y)\n",
        "  t.down()\n",
        "  t.circle(r)"
      ],
      "metadata": {
        "id": "x2FODKxlnMfy"
      },
      "execution_count": null,
      "outputs": []
    },
    {
      "cell_type": "code",
      "source": [
        "#10번 문제 왕복 달리기\n",
        "import turtle\n",
        "\n",
        "t=turtle.Turtle()\n",
        "t.shape(\"turtle\")\n",
        "\n",
        "for i in range(5):\n",
        "  t.forward(200)\n",
        "  t.right(90)\n",
        "  t.forward(20)\n",
        "  t.right(90)\n",
        "  t.forward(200)\n",
        "  t.left(90)\n",
        "  t.forward(20)\n",
        "  t.left(90)\n"
      ],
      "metadata": {
        "id": "x4PPE4eqoumT"
      },
      "execution_count": null,
      "outputs": []
    },
    {
      "cell_type": "code",
      "source": [
        "#11번 문제 노랑색 별 만들기\n",
        "import turtle\n",
        "t=turtle.Turtle()\n",
        "t.shape(\"turtle\")\n",
        "t.color('red','yellow')\n",
        "t.speed(10)\n",
        "t.begin_fill()\n",
        "while True:\n",
        "  t.forward(200)\n",
        "  t.left(170)\n",
        "  if abs(t.pos())<1:\n",
        "    break\n",
        "t.end_fill()"
      ],
      "metadata": {
        "id": "j1huLSnWpkif"
      },
      "execution_count": null,
      "outputs": []
    },
    {
      "cell_type": "code",
      "source": [
        "#12번 문제  \n",
        "import turtle\n",
        "import math\n",
        "\n",
        "t=turtle.Turtle()\n",
        "t.shape(\"turtle\")\n",
        "t.color(\"red\",\"yellow\")\n",
        "\n",
        "for x in range(0,360):\n",
        "  t.goto(x,200*math.sin(x*3.14/180))"
      ],
      "metadata": {
        "id": "k1JyFz23qnaF"
      },
      "execution_count": null,
      "outputs": []
    }
  ]
}